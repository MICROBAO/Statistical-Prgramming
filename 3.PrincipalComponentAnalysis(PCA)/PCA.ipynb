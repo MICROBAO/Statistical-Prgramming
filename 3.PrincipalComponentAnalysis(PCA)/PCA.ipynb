{
 "cells": [
  {
   "cell_type": "code",
   "execution_count": 8,
   "metadata": {
    "collapsed": false
   },
   "outputs": [],
   "source": [
    "def my_pca(A):\n",
    "    \n",
    "    T = 1000\n",
    "    A_copy = A.copy()\n",
    "    r, c = A_copy.shape\n",
    "\n",
    "    V = np.random.random_sample((r, r))\n",
    "\n",
    "    for i in range(T):\n",
    "        n, m = V.shape\n",
    "        R = V.copy()\n",
    "        Q = np.eye(n)\n",
    "\n",
    "        for k in range(m-1):\n",
    "            x = np.zeros((n, 1))\n",
    "            x[k:, 0] = R[k:, k]\n",
    "            v = x\n",
    "            v[k] = x[k] + np.sign(x[k,0]) * np.linalg.norm(x)\n",
    "\n",
    "            s = np.linalg.norm(v)\n",
    "            if s != 0:\n",
    "                u = v / s\n",
    "                R -= 2 * np.dot(u, np.dot(u.T, R))\n",
    "                Q -= 2 * np.dot(u, np.dot(u.T, Q))\n",
    "        Q = Q.T\n",
    "        V = np.dot(A_copy, Q)\n",
    "    #Q, R = qr(V)\n",
    "    mv, nv = V.shape\n",
    "    R = V.copy()\n",
    "    Q = np.eye(nv)\n",
    "    \n",
    "    for k in range(mv-1):\n",
    "        x = np.zeros((nv, 1))\n",
    "        x[k:, 0] = R[k:, k]\n",
    "        v = x\n",
    "        v[k] = x[k] + np.sign(x[k,0]) * np.linalg.norm(x)\n",
    "        s = np.linalg.norm(v)\n",
    "        if s != 0:\n",
    "            u = v / s\n",
    "            R -= 2 * np.dot(u, np.dot(u.T, R))\n",
    "            Q -= 2 * np.dot(u, np.dot(u.T, Q))\n",
    "    #Q = Q.T\n",
    "    return R.diagonal(), Q.T"
   ]
  },
  {
   "cell_type": "code",
   "execution_count": 9,
   "metadata": {
    "collapsed": false
   },
   "outputs": [
    {
     "data": {
      "text/plain": [
       "array([ 4.19667516,  0.24062861,  0.07800042,  0.02352514])"
      ]
     },
     "execution_count": 9,
     "metadata": {},
     "output_type": "execute_result"
    }
   ],
   "source": [
    "from sklearn import datasets\n",
    "from sklearn.decomposition import PCA\n",
    "\n",
    "iris = datasets.load_iris()\n",
    "X = iris.data[:, :5]\n",
    "X_reduced = PCA(n_components=4)\n",
    "X_reduced.fit_transform(X)\n",
    "X_reduced.explained_variance_\n",
    "#this is the pca from package sklearn which is based on SVD, the result is similar to our pca function "
   ]
  },
  {
   "cell_type": "code",
   "execution_count": 10,
   "metadata": {
    "collapsed": false
   },
   "outputs": [
    {
     "name": "stdout",
     "output_type": "stream",
     "text": [
      "[ 4.224841  0.242244  0.078524  0.023683]\n",
      "[[-0.36159  -0.65654   0.580997  0.317255]\n",
      " [ 0.082269 -0.729712 -0.596418 -0.324094]\n",
      " [-0.856572  0.175767 -0.072524 -0.479719]\n",
      " [-0.358844  0.074706 -0.549061  0.751121]]\n",
      "[ 4.224841  0.242244  0.078524  0.023683]\n",
      "[[ 0.36159  -0.65654  -0.580997  0.317255]\n",
      " [-0.082269 -0.729712  0.596418 -0.324094]\n",
      " [ 0.856572  0.175767  0.072524 -0.479719]\n",
      " [ 0.358844  0.074706  0.549061  0.751121]]\n"
     ]
    }
   ],
   "source": [
    "import numpy as np\n",
    "X = iris.data[:, :5]\n",
    "A = np.cov(X.T)\n",
    "\n",
    "D, V = my_pca(A)\n",
    "print D.round(6)\n",
    "print V.round(6)\n",
    "\n",
    "# Compare the result with the numpy calculation\n",
    "eigen_value_gt, eigen_vector_gt = np.linalg.eig(A)\n",
    "print eigen_value_gt.round(6)\n",
    "print eigen_vector_gt.round(6)"
   ]
  }
 ],
 "metadata": {
  "kernelspec": {
   "display_name": "Python 2",
   "language": "python",
   "name": "python2"
  },
  "language_info": {
   "codemirror_mode": {
    "name": "ipython",
    "version": 2
   },
   "file_extension": ".py",
   "mimetype": "text/x-python",
   "name": "python",
   "nbconvert_exporter": "python",
   "pygments_lexer": "ipython2",
   "version": "2.7.11"
  }
 },
 "nbformat": 4,
 "nbformat_minor": 0
}
