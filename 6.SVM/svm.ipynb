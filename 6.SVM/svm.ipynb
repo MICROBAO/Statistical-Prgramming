{
 "cells": [
  {
   "cell_type": "code",
   "execution_count": 1,
   "metadata": {
    "collapsed": true
   },
   "outputs": [],
   "source": [
    "import numpy as np\n",
    "from scipy import linalg\n",
    "import numpy as np\n",
    "from scipy import linalg\n",
    "import pandas as pd\n",
    "import warnings\n",
    "warnings.simplefilter('ignore', DeprecationWarning)\n"
   ]
  },
  {
   "cell_type": "code",
   "execution_count": 2,
   "metadata": {
    "collapsed": true
   },
   "outputs": [],
   "source": [
    "np.random.seed(1)\n",
    "\n",
    "def sigmoid(x):\n",
    "    return 1 / (1 + np.exp(-x))"
   ]
  },
  {
   "cell_type": "code",
   "execution_count": 3,
   "metadata": {
    "collapsed": true
   },
   "outputs": [],
   "source": [
    "def load_digits(subset=None, normalize=True):\n",
    "    \"\"\"\n",
    "    Load digits and labels from digits.csv.\n",
    "\n",
    "    Args:\n",
    "        subset: A subset of digit from 0 to 9 to return.\n",
    "                If not specified, all digits will be returned.\n",
    "        normalize: Whether to normalize data values to between 0 and 1.\n",
    "\n",
    "    Returns:\n",
    "        digits: Digits data matrix of the subset specified.\n",
    "                The shape is (n, p), where\n",
    "                    n is the number of examples,\n",
    "                    p is the dimension of features.\n",
    "        labels: Labels of the digits in an (n, ) array.\n",
    "                Each of label[i] is the label for data[i, :]\n",
    "    \"\"\"\n",
    "    # load digits.csv, adopted from sklearn.\n",
    "    import pandas as pd\n",
    "    df = pd.read_csv(\"/Users/Dongzhe/Desktop/stat 202a/hw6/digits.csv\")\n",
    "\n",
    "    # only keep the numbers we want.\n",
    "    if subset is not None:\n",
    "        df = df[df.iloc[:,-1].isin(subset)]\n",
    "\n",
    "    # convert to numpy arrays.\n",
    "    digits = df.iloc[:,:-1].values.astype('float')\n",
    "    labels = df.iloc[:,-1].values.astype('int')\n",
    "\n",
    "    # Normalize digit values to 0 and 1.\n",
    "    if normalize:\n",
    "        digits -= digits.min()\n",
    "        digits /= digits.max()\n",
    "\n",
    "    # Change the labels to 0 and 1.\n",
    "    for i in xrange(len(subset)):\n",
    "        labels[labels == subset[i]] = i\n",
    "\n",
    "    labels = labels.reshape((labels.shape[0], 1))\n",
    "    return digits, labels"
   ]
  },
  {
   "cell_type": "code",
   "execution_count": 4,
   "metadata": {
    "collapsed": true
   },
   "outputs": [],
   "source": [
    "def split_samples(digits, labels):\n",
    "    \"\"\"Split the data into a training set (70%) and a testing set (30%).\"\"\"\n",
    "    num_samples = digits.shape[0]\n",
    "    num_training = round(num_samples * 0.7)\n",
    "    indices = np.random.permutation(num_samples)\n",
    "    training_idx, testing_idx = indices[:num_training], indices[num_training:]\n",
    "    return (digits[training_idx], labels[training_idx],\n",
    "            digits[testing_idx], labels[testing_idx])"
   ]
  },
  {
   "cell_type": "code",
   "execution_count": 5,
   "metadata": {
    "collapsed": true
   },
   "outputs": [],
   "source": [
    "digits, labels = load_digits(subset=[1, 2], normalize=True)\n",
    "training_digits, training_labels, testing_digits, testing_labels = split_samples(digits, labels)"
   ]
  },
  {
   "cell_type": "code",
   "execution_count": 6,
   "metadata": {
    "collapsed": false
   },
   "outputs": [
    {
     "name": "stdout",
     "output_type": "stream",
     "text": [
      "((251, 64), (251, 1), (108, 64), (108, 1))\n"
     ]
    }
   ],
   "source": [
    "print(training_digits.shape, training_labels.shape, testing_digits.shape, testing_labels.shape )"
   ]
  },
  {
   "cell_type": "code",
   "execution_count": 7,
   "metadata": {
    "collapsed": false
   },
   "outputs": [],
   "source": [
    "def mySVM(training_digits,training_labels,testing_digits, testing_labels,num_iterations=40,learning_rate=1e-1,lamda=0.01):\n",
    "    \n",
    "    training_digits=pd.DataFrame(training_digits)\n",
    "    training_labels=pd.DataFrame(training_labels)\n",
    "    \n",
    "    testing_digits=pd.DataFrame(testing_digits)\n",
    "    testing_labels=pd.DataFrame(testing_labels)\n",
    "    \n",
    "    n=training_digits.shape[0]\n",
    "    p=training_digits.shape[1]+1\n",
    "    \n",
    "    intercept =pd.DataFrame(np.ones((n, 1)))\n",
    "    A = pd.concat([intercept, training_digits], axis=1)\n",
    "    \n",
    "    ntest=testing_digits.shape[0]\n",
    "    intercept1 =pd.DataFrame(np.ones((ntest, 1)))\n",
    "    A1 = pd.concat([intercept1, testing_digits], axis=1)\n",
    "    \n",
    "    training_labels=2*training_labels-1\n",
    "    testing_labels=2*testing_labels-1\n",
    "    \n",
    "    beta=np.zeros(p)\n",
    "    beta=pd.DataFrame(beta)\n",
    "    for i in range(num_iterations):\n",
    "        score=np.dot(A,beta)\n",
    "        db=score*training_labels<1\n",
    "        dbeta=np.dot(np.ones(n),(np.tile(db*training_labels,p)*A)/n)\n",
    "        dbeta_t=np.transpose(dbeta)\n",
    "        dbeta_t=pd.DataFrame(dbeta_t)\n",
    "        beta=beta+learning_rate*dbeta_t\n",
    "        beta[1:]=beta[1:p]-lamda*beta[1:p]\n",
    "  \n",
    "    train_predict=np.sign(score)\n",
    "    train_acc=np.mean(train_predict*training_labels)\n",
    "    \n",
    "    test_score=np.dot(A1,beta)\n",
    "    test_predict=np.sign(test_score)\n",
    "    test_acc=np.mean(test_predict*testing_labels)\n",
    "\n",
    "    print \" training accuracy is \",train_acc[0],\", testing accuracy is\",test_acc[0]\n",
    "    #return(beta)"
   ]
  },
  {
   "cell_type": "code",
   "execution_count": 8,
   "metadata": {
    "collapsed": false
   },
   "outputs": [
    {
     "name": "stdout",
     "output_type": "stream",
     "text": [
      " training accuracy is  0.96812749004 , testing accuracy is 0.944444444444\n"
     ]
    }
   ],
   "source": [
    "mySVM(training_digits,training_labels,testing_digits, testing_labels)"
   ]
  },
  {
   "cell_type": "code",
   "execution_count": null,
   "metadata": {
    "collapsed": true
   },
   "outputs": [],
   "source": []
  }
 ],
 "metadata": {
  "kernelspec": {
   "display_name": "Python 2",
   "language": "python",
   "name": "python2"
  },
  "language_info": {
   "codemirror_mode": {
    "name": "ipython",
    "version": 2
   },
   "file_extension": ".py",
   "mimetype": "text/x-python",
   "name": "python",
   "nbconvert_exporter": "python",
   "pygments_lexer": "ipython2",
   "version": "2.7.11"
  }
 },
 "nbformat": 4,
 "nbformat_minor": 0
}
