{
 "cells": [
  {
   "cell_type": "code",
   "execution_count": 2,
   "metadata": {
    "collapsed": false
   },
   "outputs": [
    {
     "data": {
      "text/html": [
       "<div>\n",
       "<table border=\"1\" class=\"dataframe\">\n",
       "  <thead>\n",
       "    <tr style=\"text-align: right;\">\n",
       "      <th></th>\n",
       "      <th>Unnamed: 0</th>\n",
       "      <th>Population</th>\n",
       "      <th>Income</th>\n",
       "      <th>Illiteracy</th>\n",
       "      <th>Life.Exp</th>\n",
       "      <th>Murder</th>\n",
       "      <th>HS.Grad</th>\n",
       "      <th>Frost</th>\n",
       "      <th>Area</th>\n",
       "      <th>Density</th>\n",
       "    </tr>\n",
       "  </thead>\n",
       "  <tbody>\n",
       "    <tr>\n",
       "      <th>0</th>\n",
       "      <td>Alabama</td>\n",
       "      <td>3615</td>\n",
       "      <td>3624</td>\n",
       "      <td>2.1</td>\n",
       "      <td>69.05</td>\n",
       "      <td>15.1</td>\n",
       "      <td>41.3</td>\n",
       "      <td>20</td>\n",
       "      <td>50708</td>\n",
       "      <td>71.290526</td>\n",
       "    </tr>\n",
       "    <tr>\n",
       "      <th>1</th>\n",
       "      <td>Alaska</td>\n",
       "      <td>365</td>\n",
       "      <td>6315</td>\n",
       "      <td>1.5</td>\n",
       "      <td>69.31</td>\n",
       "      <td>11.3</td>\n",
       "      <td>66.7</td>\n",
       "      <td>152</td>\n",
       "      <td>566432</td>\n",
       "      <td>0.644384</td>\n",
       "    </tr>\n",
       "    <tr>\n",
       "      <th>2</th>\n",
       "      <td>Arizona</td>\n",
       "      <td>2212</td>\n",
       "      <td>4530</td>\n",
       "      <td>1.8</td>\n",
       "      <td>70.55</td>\n",
       "      <td>7.8</td>\n",
       "      <td>58.1</td>\n",
       "      <td>15</td>\n",
       "      <td>113417</td>\n",
       "      <td>19.503249</td>\n",
       "    </tr>\n",
       "    <tr>\n",
       "      <th>3</th>\n",
       "      <td>Arkansas</td>\n",
       "      <td>2110</td>\n",
       "      <td>3378</td>\n",
       "      <td>1.9</td>\n",
       "      <td>70.66</td>\n",
       "      <td>10.1</td>\n",
       "      <td>39.9</td>\n",
       "      <td>65</td>\n",
       "      <td>51945</td>\n",
       "      <td>40.619886</td>\n",
       "    </tr>\n",
       "    <tr>\n",
       "      <th>4</th>\n",
       "      <td>California</td>\n",
       "      <td>21198</td>\n",
       "      <td>5114</td>\n",
       "      <td>1.1</td>\n",
       "      <td>71.71</td>\n",
       "      <td>10.3</td>\n",
       "      <td>62.6</td>\n",
       "      <td>20</td>\n",
       "      <td>156361</td>\n",
       "      <td>135.570890</td>\n",
       "    </tr>\n",
       "  </tbody>\n",
       "</table>\n",
       "</div>"
      ],
      "text/plain": [
       "   Unnamed: 0  Population  Income  Illiteracy  Life.Exp  Murder  HS.Grad  \\\n",
       "0     Alabama        3615    3624         2.1     69.05    15.1     41.3   \n",
       "1      Alaska         365    6315         1.5     69.31    11.3     66.7   \n",
       "2     Arizona        2212    4530         1.8     70.55     7.8     58.1   \n",
       "3    Arkansas        2110    3378         1.9     70.66    10.1     39.9   \n",
       "4  California       21198    5114         1.1     71.71    10.3     62.6   \n",
       "\n",
       "   Frost    Area     Density  \n",
       "0     20   50708   71.290526  \n",
       "1    152  566432    0.644384  \n",
       "2     15  113417   19.503249  \n",
       "3     65   51945   40.619886  \n",
       "4     20  156361  135.570890  "
      ]
     },
     "execution_count": 2,
     "metadata": {},
     "output_type": "execute_result"
    }
   ],
   "source": [
    "#Dongzheli 104434089\n",
    "\n",
    "import numpy as np\n",
    "from scipy import linalg\n",
    "import pandas as pd\n",
    "import warnings\n",
    "warnings.simplefilter('ignore', DeprecationWarning)\n",
    "\n",
    "data = pd.read_csv('/Users/Dongzhe/Desktop/stat 202a/hw2/state_x77.csv')\n",
    "data.head()"
   ]
  },
  {
   "cell_type": "code",
   "execution_count": 3,
   "metadata": {
    "collapsed": false
   },
   "outputs": [
    {
     "data": {
      "text/html": [
       "<div>\n",
       "<table border=\"1\" class=\"dataframe\">\n",
       "  <thead>\n",
       "    <tr style=\"text-align: right;\">\n",
       "      <th></th>\n",
       "      <th>Population</th>\n",
       "      <th>Income</th>\n",
       "      <th>Illiteracy</th>\n",
       "      <th>Murder</th>\n",
       "      <th>HS.Grad</th>\n",
       "      <th>Frost</th>\n",
       "      <th>Density</th>\n",
       "    </tr>\n",
       "  </thead>\n",
       "  <tbody>\n",
       "    <tr>\n",
       "      <th>0</th>\n",
       "      <td>3615</td>\n",
       "      <td>3624</td>\n",
       "      <td>2.1</td>\n",
       "      <td>15.1</td>\n",
       "      <td>41.3</td>\n",
       "      <td>20</td>\n",
       "      <td>71.290526</td>\n",
       "    </tr>\n",
       "    <tr>\n",
       "      <th>1</th>\n",
       "      <td>365</td>\n",
       "      <td>6315</td>\n",
       "      <td>1.5</td>\n",
       "      <td>11.3</td>\n",
       "      <td>66.7</td>\n",
       "      <td>152</td>\n",
       "      <td>0.644384</td>\n",
       "    </tr>\n",
       "    <tr>\n",
       "      <th>2</th>\n",
       "      <td>2212</td>\n",
       "      <td>4530</td>\n",
       "      <td>1.8</td>\n",
       "      <td>7.8</td>\n",
       "      <td>58.1</td>\n",
       "      <td>15</td>\n",
       "      <td>19.503249</td>\n",
       "    </tr>\n",
       "    <tr>\n",
       "      <th>3</th>\n",
       "      <td>2110</td>\n",
       "      <td>3378</td>\n",
       "      <td>1.9</td>\n",
       "      <td>10.1</td>\n",
       "      <td>39.9</td>\n",
       "      <td>65</td>\n",
       "      <td>40.619886</td>\n",
       "    </tr>\n",
       "    <tr>\n",
       "      <th>4</th>\n",
       "      <td>21198</td>\n",
       "      <td>5114</td>\n",
       "      <td>1.1</td>\n",
       "      <td>10.3</td>\n",
       "      <td>62.6</td>\n",
       "      <td>20</td>\n",
       "      <td>135.570890</td>\n",
       "    </tr>\n",
       "  </tbody>\n",
       "</table>\n",
       "</div>"
      ],
      "text/plain": [
       "   Population  Income  Illiteracy  Murder  HS.Grad  Frost     Density\n",
       "0        3615    3624         2.1    15.1     41.3     20   71.290526\n",
       "1         365    6315         1.5    11.3     66.7    152    0.644384\n",
       "2        2212    4530         1.8     7.8     58.1     15   19.503249\n",
       "3        2110    3378         1.9    10.1     39.9     65   40.619886\n",
       "4       21198    5114         1.1    10.3     62.6     20  135.570890"
      ]
     },
     "execution_count": 3,
     "metadata": {},
     "output_type": "execute_result"
    }
   ],
   "source": [
    "X=data.get(['Population', 'Income', 'Illiteracy','Murder','HS.Grad','Frost','Density' ])\n",
    "X.head()"
   ]
  },
  {
   "cell_type": "code",
   "execution_count": 4,
   "metadata": {
    "collapsed": false
   },
   "outputs": [
    {
     "data": {
      "text/html": [
       "<div>\n",
       "<table border=\"1\" class=\"dataframe\">\n",
       "  <thead>\n",
       "    <tr style=\"text-align: right;\">\n",
       "      <th></th>\n",
       "      <th>Life.Exp</th>\n",
       "    </tr>\n",
       "  </thead>\n",
       "  <tbody>\n",
       "    <tr>\n",
       "      <th>0</th>\n",
       "      <td>69.05</td>\n",
       "    </tr>\n",
       "    <tr>\n",
       "      <th>1</th>\n",
       "      <td>69.31</td>\n",
       "    </tr>\n",
       "    <tr>\n",
       "      <th>2</th>\n",
       "      <td>70.55</td>\n",
       "    </tr>\n",
       "    <tr>\n",
       "      <th>3</th>\n",
       "      <td>70.66</td>\n",
       "    </tr>\n",
       "    <tr>\n",
       "      <th>4</th>\n",
       "      <td>71.71</td>\n",
       "    </tr>\n",
       "  </tbody>\n",
       "</table>\n",
       "</div>"
      ],
      "text/plain": [
       "   Life.Exp\n",
       "0     69.05\n",
       "1     69.31\n",
       "2     70.55\n",
       "3     70.66\n",
       "4     71.71"
      ]
     },
     "execution_count": 4,
     "metadata": {},
     "output_type": "execute_result"
    }
   ],
   "source": [
    "Y=data.get(['Life.Exp'])\n",
    "Y.head()"
   ]
  },
  {
   "cell_type": "code",
   "execution_count": 5,
   "metadata": {
    "collapsed": false
   },
   "outputs": [
    {
     "data": {
      "text/plain": [
       "(50, 9)"
      ]
     },
     "execution_count": 5,
     "metadata": {},
     "output_type": "execute_result"
    }
   ],
   "source": [
    "nx, mx = X.shape\n",
    "Z = np.hstack((np.ones(nx).reshape((nx, 1)),X,Y))\n",
    "Z.shape\n"
   ]
  },
  {
   "cell_type": "code",
   "execution_count": 11,
   "metadata": {
    "collapsed": false
   },
   "outputs": [
    {
     "data": {
      "text/plain": [
       "array([  7.20647128e+01,   5.95566298e-05,   9.34505445e-05,\n",
       "        -3.94997328e-02,  -3.33832448e-01,   2.78499372e-02,\n",
       "        -6.69908118e-03,  -7.85799680e-04])"
      ]
     },
     "execution_count": 11,
     "metadata": {},
     "output_type": "execute_result"
    }
   ],
   "source": [
    "def mylm_qr(A):\n",
    "    n, m = A.shape\n",
    "    R = A.copy()\n",
    "    Q = np.eye(n)\n",
    "\n",
    "    for k in range(m-1):\n",
    "        x = np.zeros((n, 1))\n",
    "        x[k:, 0] = R[k:, k]\n",
    "        v = x\n",
    "        v[k] = x[k] + np.sign(x[k,0]) * np.linalg.norm(x)\n",
    "\n",
    "        s = np.linalg.norm(v)\n",
    "        if s != 0:\n",
    "            u = v / s\n",
    "            R -= 2 * np.dot(u, np.dot(u.T, R))\n",
    "            Q -= 2 * np.dot(u, np.dot(u.T, Q))\n",
    "    Q = Q.T\n",
    "    R1 = R[:m-1, :m-1]\n",
    "    Y1 = R[:m-1, m-1]\n",
    "    beta=np.linalg.solve(R1, Y1)\n",
    "    return beta\n",
    "    print beta\n",
    "mylm_qr(Zin)"
   ]
  },
  {
   "cell_type": "code",
   "execution_count": 7,
   "metadata": {
    "collapsed": false
   },
   "outputs": [
    {
     "data": {
      "text/plain": [
       "array([  7.09414313e+01,   6.24896566e-05,   1.48450662e-04,\n",
       "         1.45179602e-01,  -3.31924798e-01,   3.74645692e-02,\n",
       "        -5.53285316e-03,  -7.99544093e-04])"
      ]
     },
     "execution_count": 7,
     "metadata": {},
     "output_type": "execute_result"
    }
   ],
   "source": [
    "def mylm_sweep(B, m):\n",
    "    A = np.copy(B)\n",
    "    n, c = A.shape\n",
    "    for k in range(m):\n",
    "        for i in range(n):\n",
    "            for j in range(n):\n",
    "                if i != k and j != k:\n",
    "                    A[i,j] = A[i,j]- A[i,k]*A[k,j]/A[k,k]\n",
    "\n",
    "        for i in range(n):\n",
    "            if i != k:\n",
    "                A[i,k] = A[i,k]/A[k,k]\n",
    "\n",
    "        for j in range(n):\n",
    "            if j != k:\n",
    "                A[k,j] = A[k,j]/A[k,k]\n",
    "\n",
    "        A[k,k] = -1/A[k,k]\n",
    "    beta=A[0:m,m]\n",
    "    return beta\n",
    "\n",
    "\n",
    "\n",
    "Zin=np.dot(Z.T,Z)\n",
    "mylm_sweep(Zin, mx+1)"
   ]
  }
 ],
 "metadata": {
  "kernelspec": {
   "display_name": "Python 2",
   "language": "python",
   "name": "python2"
  },
  "language_info": {
   "codemirror_mode": {
    "name": "ipython",
    "version": 2
   },
   "file_extension": ".py",
   "mimetype": "text/x-python",
   "name": "python",
   "nbconvert_exporter": "python",
   "pygments_lexer": "ipython2",
   "version": "2.7.11"
  }
 },
 "nbformat": 4,
 "nbformat_minor": 0
}
