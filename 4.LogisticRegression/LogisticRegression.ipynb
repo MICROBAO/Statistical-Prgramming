{
 "cells": [
  {
   "cell_type": "code",
   "execution_count": 1,
   "metadata": {
    "collapsed": false
   },
   "outputs": [
    {
     "data": {
      "text/html": [
       "<div>\n",
       "<table border=\"1\" class=\"dataframe\">\n",
       "  <thead>\n",
       "    <tr style=\"text-align: right;\">\n",
       "      <th></th>\n",
       "      <th>admit</th>\n",
       "      <th>gre</th>\n",
       "      <th>gpa</th>\n",
       "      <th>rank</th>\n",
       "    </tr>\n",
       "  </thead>\n",
       "  <tbody>\n",
       "    <tr>\n",
       "      <th>0</th>\n",
       "      <td>0</td>\n",
       "      <td>380</td>\n",
       "      <td>3.61</td>\n",
       "      <td>3</td>\n",
       "    </tr>\n",
       "    <tr>\n",
       "      <th>1</th>\n",
       "      <td>1</td>\n",
       "      <td>660</td>\n",
       "      <td>3.67</td>\n",
       "      <td>3</td>\n",
       "    </tr>\n",
       "    <tr>\n",
       "      <th>2</th>\n",
       "      <td>1</td>\n",
       "      <td>800</td>\n",
       "      <td>4.00</td>\n",
       "      <td>1</td>\n",
       "    </tr>\n",
       "    <tr>\n",
       "      <th>3</th>\n",
       "      <td>1</td>\n",
       "      <td>640</td>\n",
       "      <td>3.19</td>\n",
       "      <td>4</td>\n",
       "    </tr>\n",
       "    <tr>\n",
       "      <th>4</th>\n",
       "      <td>0</td>\n",
       "      <td>520</td>\n",
       "      <td>2.93</td>\n",
       "      <td>4</td>\n",
       "    </tr>\n",
       "  </tbody>\n",
       "</table>\n",
       "</div>"
      ],
      "text/plain": [
       "   admit  gre   gpa  rank\n",
       "0      0  380  3.61     3\n",
       "1      1  660  3.67     3\n",
       "2      1  800  4.00     1\n",
       "3      1  640  3.19     4\n",
       "4      0  520  2.93     4"
      ]
     },
     "execution_count": 1,
     "metadata": {},
     "output_type": "execute_result"
    }
   ],
   "source": [
    "import numpy as np\n",
    "from scipy import linalg\n",
    "import numpy as np\n",
    "from scipy import linalg\n",
    "import pandas as pd\n",
    "import warnings\n",
    "warnings.simplefilter('ignore', DeprecationWarning)\n",
    "\n",
    "data = pd.read_csv(\"http://www.ats.ucla.edu/stat/data/binary.csv\")\n",
    "data.head()"
   ]
  },
  {
   "cell_type": "code",
   "execution_count": 2,
   "metadata": {
    "collapsed": false
   },
   "outputs": [
    {
     "data": {
      "text/plain": [
       "array([[ 0.],\n",
       "       [ 0.],\n",
       "       [ 0.]])"
      ]
     },
     "execution_count": 2,
     "metadata": {},
     "output_type": "execute_result"
    }
   ],
   "source": [
    "X=data.get([\"gre\",\"gpa\",\"rank\"])\n",
    "Y=data.get([\"admit\"])\n",
    "nx, mx = X.shape\n",
    "\n",
    "beta = np.zeros((mx, 1))\n",
    "epsilon = 1e-6\n",
    "beta"
   ]
  },
  {
   "cell_type": "code",
   "execution_count": 3,
   "metadata": {
    "collapsed": false
   },
   "outputs": [],
   "source": [
    "def exp_it(_x):\n",
    "    x = _x.copy()\n",
    "    y = 1 / (1 + np.exp(-x))\n",
    "    return y\n"
   ]
  },
  {
   "cell_type": "code",
   "execution_count": 4,
   "metadata": {
    "collapsed": true
   },
   "outputs": [],
   "source": [
    "def mylm_qr(A):\n",
    "    n, m = A.shape\n",
    "    R = A.copy()\n",
    "    Q = np.eye(n)\n",
    "\n",
    "    for k in range(m-1):\n",
    "        x = np.zeros((n, 1))\n",
    "        x[k:, 0] = R[k:, k]\n",
    "        v = x\n",
    "        v[k] = x[k] + np.sign(x[k,0]) * np.linalg.norm(x)\n",
    "\n",
    "        s = np.linalg.norm(v)\n",
    "        if s != 0:\n",
    "            u = v / s\n",
    "            R -= 2 * np.dot(u, np.dot(u.T, R))\n",
    "            Q -= 2 * np.dot(u, np.dot(u.T, Q))\n",
    "    Q = Q.T\n",
    "    R1 = R[:m-1, :m-1]\n",
    "    Y1 = R[:m-1, m-1]\n",
    "    beta = np.linalg.solve(R1, Y1)\n",
    "    beta = pd.DataFrame(beta)#make the beta a dataframe , this will sovle the problem that when y-pr the data type is diffent \n",
    "    return beta"
   ]
  },
  {
   "cell_type": "code",
   "execution_count": 7,
   "metadata": {
    "collapsed": true
   },
   "outputs": [],
   "source": [
    "def mylogistic(_x, _y):\n",
    "    x = _x.copy()\n",
    "    y = _y.copy()\n",
    "    r, c = x.shape\n",
    "\n",
    "    beta = np.zeros((c, 1))\n",
    "    epsilon = 1e-6\n",
    "\n",
    "    while True:\n",
    "        eta = np.dot(x, beta)\n",
    "        pr = exp_it(eta)\n",
    "        w = pr * (1 - pr)\n",
    "        z = eta + (y - pr) / w\n",
    "        sw = np.sqrt(w)\n",
    "        mw = np.repeat(sw, c, axis=1)\n",
    "\n",
    "        x_work = mw * x\n",
    "        y_work = sw * z\n",
    "        rw,cw=x_work.shape\n",
    "        A = pd.concat([x_work, y_work], axis=1)\n",
    "        a=A.as_matrix(columns=None)\n",
    "\n",
    "        beta_new=mylm_qr(a)\n",
    "        #beta_new, _, _, _ = np.linalg.lstsq(x_work, y_work)\n",
    "        \n",
    "        err = np.sum(np.abs(beta_new - beta))\n",
    "        beta = beta_new\n",
    "        #beta here is a dataframe so the comparison must be specific \n",
    "        if err[0] < epsilon:\n",
    "            break\n",
    "\n",
    "    return beta"
   ]
  },
  {
   "cell_type": "code",
   "execution_count": 8,
   "metadata": {
    "collapsed": false
   },
   "outputs": [
    {
     "name": "stdout",
     "output_type": "stream",
     "text": [
      "          0\n",
      "0  0.001477\n",
      "1 -0.004167\n",
      "2 -0.669538\n"
     ]
    }
   ],
   "source": [
    "if __name__ == '__main__':\n",
    "#     n = 1000\n",
    "#     p = 5\n",
    "\n",
    "#     X = np.random.normal(0, 1, (n, p))\n",
    "#     #beta = np.arange(p) + 1\n",
    "#     beta = np.ones((p, 1))\n",
    "#     print beta\n",
    "\n",
    "#     Y = np.random.uniform(0, 1, (n, 1)) < exp_it(np.dot(X, beta)).reshape((n, 1))\n",
    "    A = pd.concat([X, Y], axis=1)\n",
    "    logistic_beta = mylogistic(X, Y)\n",
    "    print logistic_beta"
   ]
  },
  {
   "cell_type": "code",
   "execution_count": 9,
   "metadata": {
    "collapsed": false
   },
   "outputs": [],
   "source": [
    "#The Result without intercept\n",
    "#           0\n",
    "# 0  0.001477\n",
    "# 1 -0.004167\n",
    "# 2 -0.669538"
   ]
  },
  {
   "cell_type": "code",
   "execution_count": 10,
   "metadata": {
    "collapsed": false
   },
   "outputs": [
    {
     "name": "stdout",
     "output_type": "stream",
     "text": [
      "          0\n",
      "0 -3.449548\n",
      "1  0.002294\n",
      "2  0.777014\n",
      "3 -0.560031\n"
     ]
    }
   ],
   "source": [
    "intercept =pd.DataFrame(np.ones((nx, 1)))\n",
    "A = pd.concat([intercept, X], axis=1)\n",
    "logistic_beta = mylogistic(A, Y)\n",
    "print logistic_beta"
   ]
  },
  {
   "cell_type": "code",
   "execution_count": 11,
   "metadata": {
    "collapsed": false
   },
   "outputs": [
    {
     "name": "stderr",
     "output_type": "stream",
     "text": [
      "/Users/Dongzhe/anaconda/lib/python2.7/site-packages/sklearn/preprocessing/label.py:125: DataConversionWarning: A column-vector y was passed when a 1d array was expected. Please change the shape of y to (n_samples, ), for example using ravel().\n",
      "  y = column_or_1d(y, warn=True)\n"
     ]
    },
    {
     "data": {
      "text/plain": [
       "LogisticRegression(C=100000.0, class_weight=None, dual=False,\n",
       "          fit_intercept=True, intercept_scaling=1, penalty='l2',\n",
       "          random_state=None, tol=0.0001)"
      ]
     },
     "execution_count": 11,
     "metadata": {},
     "output_type": "execute_result"
    }
   ],
   "source": [
    "from sklearn import linear_model\n",
    "logreg = linear_model.LogisticRegression(C=1e5)\n",
    "logreg.fit(X,Y)"
   ]
  },
  {
   "cell_type": "code",
   "execution_count": 12,
   "metadata": {
    "collapsed": false
   },
   "outputs": [
    {
     "name": "stdout",
     "output_type": "stream",
     "text": [
      "(-3.418297, 0.002275, 0.770528, -0.55881)\n"
     ]
    }
   ],
   "source": [
    "#compare the result with builtin logistic regression model \n",
    "print(round(logreg.intercept_[0],6),round(logreg.coef_[0][0],6),round(logreg.coef_[0][1],6),round(logreg.coef_[0][2],6))"
   ]
  }
 ],
 "metadata": {
  "kernelspec": {
   "display_name": "Python 2",
   "language": "python",
   "name": "python2"
  },
  "language_info": {
   "codemirror_mode": {
    "name": "ipython",
    "version": 2
   },
   "file_extension": ".py",
   "mimetype": "text/x-python",
   "name": "python",
   "nbconvert_exporter": "python",
   "pygments_lexer": "ipython2",
   "version": "2.7.11"
  }
 },
 "nbformat": 4,
 "nbformat_minor": 0
}
