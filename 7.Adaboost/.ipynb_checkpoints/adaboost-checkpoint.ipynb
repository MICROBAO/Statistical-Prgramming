{
 "cells": [
  {
   "cell_type": "code",
   "execution_count": 1,
   "metadata": {
    "collapsed": true
   },
   "outputs": [],
   "source": [
    "#stat 202a\n",
    "#Dongzhe Li(Ben) 104434089\n",
    "#adaboost\n",
    "\n",
    "import numpy as np\n",
    "from scipy import linalg\n",
    "import numpy as np\n",
    "from scipy import linalg\n",
    "import pandas as pd\n",
    "import warnings\n",
    "warnings.simplefilter('ignore', DeprecationWarning)\n",
    "import operator"
   ]
  },
  {
   "cell_type": "code",
   "execution_count": 2,
   "metadata": {
    "collapsed": true
   },
   "outputs": [],
   "source": [
    "\n",
    "def accuracy(a,b):\n",
    "    acc=np.mean(a==b)\n",
    "   \n",
    "    return(acc)"
   ]
  },
  {
   "cell_type": "code",
   "execution_count": 3,
   "metadata": {
    "collapsed": true
   },
   "outputs": [],
   "source": [
    "def load_digits(subset=None, normalize=True):\n",
    "    # load digits.csv, adopted from sklearn.\n",
    "    import pandas as pd\n",
    "    df = pd.read_csv(\"/Users/Dongzhe/Desktop/stat 202a/hw6/digits.csv\")\n",
    "\n",
    "    # only keep the numbers we want.\n",
    "    if subset is not None:\n",
    "        df = df[df.iloc[:,-1].isin(subset)]\n",
    "\n",
    "    # convert to numpy arrays.\n",
    "    digits = df.iloc[:,:-1].values.astype('float')\n",
    "    labels = df.iloc[:,-1].values.astype('int')\n",
    "\n",
    "    # Normalize digit values to 0 and 1.\n",
    "    if normalize:\n",
    "        digits -= digits.min()\n",
    "        digits /= digits.max()\n",
    "\n",
    "    # Change the labels to 0 and 1.\n",
    "    for i in xrange(len(subset)):\n",
    "        labels[labels == subset[i]] = i\n",
    "\n",
    "    labels = labels.reshape((labels.shape[0], 1))\n",
    "    return digits, labels"
   ]
  },
  {
   "cell_type": "code",
   "execution_count": 4,
   "metadata": {
    "collapsed": true
   },
   "outputs": [],
   "source": [
    "def split_samples(digits, labels):\n",
    "    \"\"\"Split the data into a training set (70%) and a testing set (30%).\"\"\"\n",
    "    num_samples = digits.shape[0]\n",
    "    num_training = round(num_samples * 0.7)\n",
    "    indices = np.random.permutation(num_samples)\n",
    "    training_idx, testing_idx = indices[:num_training], indices[num_training:]\n",
    "    return (digits[training_idx], labels[training_idx],\n",
    "            digits[testing_idx], labels[testing_idx])"
   ]
  },
  {
   "cell_type": "code",
   "execution_count": 5,
   "metadata": {
    "collapsed": true
   },
   "outputs": [],
   "source": [
    "digits, labels = load_digits(subset=[1, 2], normalize=True)\n",
    "training_digits, training_labels, testing_digits, testing_labels = split_samples(digits, labels)"
   ]
  },
  {
   "cell_type": "code",
   "execution_count": 6,
   "metadata": {
    "collapsed": false
   },
   "outputs": [
    {
     "name": "stdout",
     "output_type": "stream",
     "text": [
      "((251, 64), (251, 1), (108, 64), (108, 1))\n"
     ]
    }
   ],
   "source": [
    "print(training_digits.shape, training_labels.shape, testing_digits.shape, testing_labels.shape )"
   ]
  },
  {
   "cell_type": "code",
   "execution_count": 7,
   "metadata": {
    "collapsed": false
   },
   "outputs": [],
   "source": [
    "def myAdaboost(training_digits,training_labels,testing_digits, testing_labels,num_iterations=10):\n",
    "    \n",
    "    training_digits=pd.DataFrame(training_digits)\n",
    "    training_labels=pd.DataFrame(training_labels)\n",
    "\n",
    "    n=training_digits.shape[0]\n",
    "    p=training_digits.shape[1]\n",
    "    threshold=.8\n",
    "    training_digits_h=training_digits>threshold\n",
    "    #intercept =pd.DataFrame(np.ones((n, 1)))\n",
    "    #A = pd.concat([intercept, training_digits], axis=1)\n",
    "    \n",
    "    training_labels=2*training_labels-1\n",
    "    training_digits_h=training_digits*2-1\n",
    "    \n",
    "    testing_digits_h=testing_digits>threshold\n",
    "    testing_digits_h=testing_digits_h*2-1\n",
    "    testing_labels=testing_labels*2-1\n",
    "    \n",
    "    beta=np.zeros(p)\n",
    "    beta=pd.DataFrame(beta)\n",
    "    \n",
    "    for i in range(num_iterations):        \n",
    "        score=np.dot(training_digits_h,beta)\n",
    "        w=np.exp(-training_labels*score)\n",
    "        a=np.dot(np.ones(n),(np.tile(w*training_labels,p)*training_digits_h)/n)\n",
    "        error=(1-a)/2\n",
    "        \n",
    "        index=min(enumerate(error), key=operator.itemgetter(1))\n",
    "        beta.loc[index[0]]=beta.loc[index[0]]+np.log((1-error[index[0]])/(2*error[index[0]]))\n",
    "        \n",
    "    score_train=np.dot(training_digits_h,beta)\n",
    "    train_predict=np.sign(score_train)\n",
    "    training_acc=accuracy(train_predict,training_labels)\n",
    "    \n",
    "    score_test=np.dot(testing_digits_h,beta)\n",
    "    test_predict=np.sign(score_test)\n",
    "    test_acc=accuracy(test_predict,testing_labels)\n",
    "    \n",
    "    \n",
    "    print \" training accuracy is \",training_acc[0],\"test accuracy is\",test_acc\n",
    "        \n",
    "    "
   ]
  },
  {
   "cell_type": "code",
   "execution_count": 8,
   "metadata": {
    "collapsed": false
   },
   "outputs": [
    {
     "name": "stdout",
     "output_type": "stream",
     "text": [
      " training accuracy is  0.844621513944 test accuracy is 0.87037037037\n"
     ]
    }
   ],
   "source": [
    "myAdaboost(training_digits,training_labels,testing_digits, testing_labels)"
   ]
  }
 ],
 "metadata": {
  "kernelspec": {
   "display_name": "Python 2",
   "language": "python",
   "name": "python2"
  },
  "language_info": {
   "codemirror_mode": {
    "name": "ipython",
    "version": 2
   },
   "file_extension": ".py",
   "mimetype": "text/x-python",
   "name": "python",
   "nbconvert_exporter": "python",
   "pygments_lexer": "ipython2",
   "version": "2.7.11"
  }
 },
 "nbformat": 4,
 "nbformat_minor": 0
}
